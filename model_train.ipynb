{
 "cells": [
  {
   "cell_type": "code",
   "execution_count": 1,
   "metadata": {},
   "outputs": [],
   "source": [
    "import pandas as pd\n",
    "import numpy as np\n",
    "import matplotlib.pyplot as plt\n",
    "from sklearn.preprocessing import MinMaxScaler\n",
    "from sklearn.cluster import KMeans\n",
    "from yellowbrick.cluster import KElbowVisualizer\n",
    "%matplotlib inline"
   ]
  },
  {
   "cell_type": "code",
   "execution_count": 2,
   "metadata": {},
   "outputs": [
    {
     "data": {
      "text/html": [
       "<div>\n",
       "<style scoped>\n",
       "    .dataframe tbody tr th:only-of-type {\n",
       "        vertical-align: middle;\n",
       "    }\n",
       "\n",
       "    .dataframe tbody tr th {\n",
       "        vertical-align: top;\n",
       "    }\n",
       "\n",
       "    .dataframe thead th {\n",
       "        text-align: right;\n",
       "    }\n",
       "</style>\n",
       "<table border=\"1\" class=\"dataframe\">\n",
       "  <thead>\n",
       "    <tr style=\"text-align: right;\">\n",
       "      <th></th>\n",
       "      <th>authors</th>\n",
       "      <th>title of paper</th>\n",
       "      <th>journal name</th>\n",
       "      <th>citations</th>\n",
       "      <th>doi</th>\n",
       "      <th>page no</th>\n",
       "      <th>month of publication</th>\n",
       "      <th>year of publication</th>\n",
       "      <th>ISSN</th>\n",
       "      <th>url</th>\n",
       "      <th>Journal_encoded</th>\n",
       "    </tr>\n",
       "  </thead>\n",
       "  <tbody>\n",
       "    <tr>\n",
       "      <th>0</th>\n",
       "      <td>Andrija Goranović, Marcus Meisel, Stefan Wilke...</td>\n",
       "      <td>Hyperledger Fabric Smart Grid Communication Te...</td>\n",
       "      <td>IEEE Conference Publication</td>\n",
       "      <td>5.0</td>\n",
       "      <td>10.1109/WFCS.2019.8758000</td>\n",
       "      <td>27-29 May 2019</td>\n",
       "      <td>July</td>\n",
       "      <td>2019.0</td>\n",
       "      <td>1882-2161.0</td>\n",
       "      <td>https://ieeexplore.ieee.org/abstract/document/...</td>\n",
       "      <td>2</td>\n",
       "    </tr>\n",
       "  </tbody>\n",
       "</table>\n",
       "</div>"
      ],
      "text/plain": [
       "                                             authors  \\\n",
       "0  Andrija Goranović, Marcus Meisel, Stefan Wilke...   \n",
       "\n",
       "                                      title of paper  \\\n",
       "0  Hyperledger Fabric Smart Grid Communication Te...   \n",
       "\n",
       "                  journal name  citations                        doi  \\\n",
       "0  IEEE Conference Publication        5.0  10.1109/WFCS.2019.8758000   \n",
       "\n",
       "          page no month of publication  year of publication         ISSN  \\\n",
       "0  27-29 May 2019                 July               2019.0  1882-2161.0   \n",
       "\n",
       "                                                 url  Journal_encoded  \n",
       "0  https://ieeexplore.ieee.org/abstract/document/...                2  "
      ]
     },
     "execution_count": 2,
     "metadata": {},
     "output_type": "execute_result"
    }
   ],
   "source": [
    "df = pd.read_csv('./output_preprocessed.csv')\n",
    "df = df.drop(['Unnamed: 0'], axis=1)\n",
    "df.head(1)"
   ]
  },
  {
   "cell_type": "code",
   "execution_count": 3,
   "metadata": {},
   "outputs": [
    {
     "data": {
      "text/html": [
       "<div>\n",
       "<style scoped>\n",
       "    .dataframe tbody tr th:only-of-type {\n",
       "        vertical-align: middle;\n",
       "    }\n",
       "\n",
       "    .dataframe tbody tr th {\n",
       "        vertical-align: top;\n",
       "    }\n",
       "\n",
       "    .dataframe thead th {\n",
       "        text-align: right;\n",
       "    }\n",
       "</style>\n",
       "<table border=\"1\" class=\"dataframe\">\n",
       "  <thead>\n",
       "    <tr style=\"text-align: right;\">\n",
       "      <th></th>\n",
       "      <th>authors</th>\n",
       "      <th>title of paper</th>\n",
       "      <th>journal name</th>\n",
       "      <th>citations</th>\n",
       "      <th>doi</th>\n",
       "      <th>page no</th>\n",
       "      <th>month of publication</th>\n",
       "      <th>year of publication</th>\n",
       "      <th>ISSN</th>\n",
       "      <th>url</th>\n",
       "      <th>Journal_encoded</th>\n",
       "    </tr>\n",
       "  </thead>\n",
       "  <tbody>\n",
       "    <tr>\n",
       "      <th>0</th>\n",
       "      <td>Andrija Goranović, Marcus Meisel, Stefan Wilke...</td>\n",
       "      <td>Hyperledger Fabric Smart Grid Communication Te...</td>\n",
       "      <td>IEEE Conference Publication</td>\n",
       "      <td>0.008511</td>\n",
       "      <td>10.1109/WFCS.2019.8758000</td>\n",
       "      <td>27-29 May 2019</td>\n",
       "      <td>July</td>\n",
       "      <td>2019.0</td>\n",
       "      <td>1882-2161.0</td>\n",
       "      <td>https://ieeexplore.ieee.org/abstract/document/...</td>\n",
       "      <td>0.5</td>\n",
       "    </tr>\n",
       "  </tbody>\n",
       "</table>\n",
       "</div>"
      ],
      "text/plain": [
       "                                             authors  \\\n",
       "0  Andrija Goranović, Marcus Meisel, Stefan Wilke...   \n",
       "\n",
       "                                      title of paper  \\\n",
       "0  Hyperledger Fabric Smart Grid Communication Te...   \n",
       "\n",
       "                  journal name  citations                        doi  \\\n",
       "0  IEEE Conference Publication   0.008511  10.1109/WFCS.2019.8758000   \n",
       "\n",
       "          page no month of publication  year of publication         ISSN  \\\n",
       "0  27-29 May 2019                 July               2019.0  1882-2161.0   \n",
       "\n",
       "                                                 url  Journal_encoded  \n",
       "0  https://ieeexplore.ieee.org/abstract/document/...              0.5  "
      ]
     },
     "execution_count": 3,
     "metadata": {},
     "output_type": "execute_result"
    }
   ],
   "source": [
    "# encoding\n",
    "scaler = MinMaxScaler()\n",
    "df['citations'] = scaler.fit_transform(df['citations'].values.reshape(-1, 1))\n",
    "df['Journal_encoded'] = scaler.fit_transform(df['Journal_encoded'].values.reshape(-1, 1))\n",
    "df.head(1)"
   ]
  },
  {
   "cell_type": "code",
   "execution_count": 4,
   "metadata": {},
   "outputs": [
    {
     "data": {
      "image/png": "[encoded data removed]",
      "text/plain": [
       "<Figure size 432x288 with 2 Axes>"
      ]
     },
     "metadata": {},
     "output_type": "display_data"
    },
    {
     "data": {
      "text/plain": [
       "<AxesSubplot:title={'center':'Distortion Score Elbow for KMeans Clustering'}, xlabel='k', ylabel='distortion score'>"
      ]
     },
     "execution_count": 4,
     "metadata": {},
     "output_type": "execute_result"
    }
   ],
   "source": [
    "model  = KMeans(random_state=40)\n",
    "visualizer = KElbowVisualizer(model, k=(2,10))\n",
    "visualizer.fit(df[['Journal_encoded','citations']])\n",
    "visualizer.show()"
   ]
  },
  {
   "cell_type": "code",
   "execution_count": 5,
   "metadata": {},
   "outputs": [],
   "source": [
    "model.n_clusters = 4\n",
    "model_predicted = model.fit_predict(df[['Journal_encoded','citations']])"
   ]
  },
  {
   "cell_type": "code",
   "execution_count": 6,
   "metadata": {},
   "outputs": [],
   "source": [
    "df['cluster'] = model_predicted"
   ]
  },
  {
   "cell_type": "code",
   "execution_count": 7,
   "metadata": {},
   "outputs": [],
   "source": [
    "centroid = model.cluster_centers_\n",
    "x_c = [i[0] for i in centroid]\n",
    "y_c = [i[1] for i in centroid]\n",
    "# print(x_c)\n",
    "# print(y_c)"
   ]
  },
  {
   "cell_type": "code",
   "execution_count": 8,
   "metadata": {},
   "outputs": [
    {
     "data": {
      "image/png": "[encoded data removed]",
      "text/plain": [
       "<Figure size 432x288 with 1 Axes>"
      ]
     },
     "metadata": {
      "needs_background": "light"
     },
     "output_type": "display_data"
    }
   ],
   "source": [
    "plt.scatter(df['Journal_encoded'], df['citations'],c=df['cluster'], cmap='rainbow')\n",
    "plt.scatter(x_c,y_c, c='black', marker=\"*\")\n",
    "plt.xlabel('Journal_encoded')\n",
    "plt.ylabel('citations')\n",
    "plt.title('Citations Cluster')\n",
    "plt.show()"
   ]
  },
  {
   "cell_type": "code",
   "execution_count": 9,
   "metadata": {},
   "outputs": [
    {
     "name": "stdout",
     "output_type": "stream",
     "text": [
      "1.0\n"
     ]
    }
   ],
   "source": [
    "# printing accuracy\n",
    "from sklearn.metrics import accuracy_score\n",
    "print(accuracy_score(df['cluster'], model_predicted))"
   ]
  },
  {
   "cell_type": "code",
   "execution_count": 11,
   "metadata": {},
   "outputs": [
    {
     "name": "stdout",
     "output_type": "stream",
     "text": [
      "5.323754374656721\n"
     ]
    }
   ],
   "source": [
    "# inertia score\n",
    "print(model.inertia_)"
   ]
  },
  {
   "cell_type": "code",
   "execution_count": 12,
   "metadata": {},
   "outputs": [
    {
     "name": "stdout",
     "output_type": "stream",
     "text": [
      "0.7578305433434567\n"
     ]
    }
   ],
   "source": [
    "# silhouette score\n",
    "from sklearn.metrics import silhouette_score\n",
    "print(silhouette_score(df[['Journal_encoded','citations']], model_predicted))"
   ]
  },
  {
   "cell_type": "code",
   "execution_count": null,
   "metadata": {},
   "outputs": [],
   "source": []
  }
 ],
 "metadata": {
  "interpreter": {
   "hash": "63fd5069d213b44bf678585dea6b12cceca9941eaf7f819626cde1f2670de90d"
  },
  "kernelspec": {
   "display_name": "Python 3.9.6 64-bit",
   "language": "python",
   "name": "python3"
  },
  "language_info": {
   "codemirror_mode": {
    "name": "ipython",
    "version": 3
   },
   "file_extension": ".py",
   "mimetype": "text/x-python",
   "name": "python",
   "nbconvert_exporter": "python",
   "pygments_lexer": "ipython3",
   "version": "3.9.6"
  },
  "orig_nbformat": 4
 },
 "nbformat": 4,
 "nbformat_minor": 2
}
