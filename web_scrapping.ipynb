{
 "cells": [
  {
   "cell_type": "markdown",
   "metadata": {},
   "source": [
    "# WebScrapping\n",
    "this file gets all urls from `input.txt` and scrapes the data from the url and saves it in `output.csv`"
   ]
  },
  {
   "cell_type": "code",
   "execution_count": 151,
   "metadata": {},
   "outputs": [],
   "source": [
    "from selenium import webdriver\n",
    "from selenium.webdriver.chrome.options import Options as ChromeOptions\n",
    "from selenium.webdriver.ie.options import Options as IEOptions\n",
    "from selenium.webdriver.common.by import By\n",
    "from selenium.common.exceptions import NoSuchElementException\n",
    "import pandas as pd\n",
    "from pandas.errors import EmptyDataError\n",
    "import os\n",
    "from icecream import ic"
   ]
  },
  {
   "cell_type": "code",
   "execution_count": 152,
   "metadata": {},
   "outputs": [],
   "source": [
    "options = ChromeOptions()\n",
    "driver = webdriver.Chrome(options=options)"
   ]
  },
  {
   "cell_type": "code",
   "execution_count": 153,
   "metadata": {},
   "outputs": [],
   "source": [
    "# configs\n",
    "LOG = 1\n",
    "INPUT_FILE = 'input.txt'\n",
    "OUTPUT_FILE = 'output.csv'\n",
    "\n",
    "base = {\n",
    "    'ieee': 'https://ieeexplore.ieee.org/abstract/document/'\n",
    "}"
   ]
  },
  {
   "cell_type": "code",
   "execution_count": 154,
   "metadata": {},
   "outputs": [],
   "source": [
    "def logger(s):\n",
    "    if LOG:\n",
    "        print(s)"
   ]
  },
  {
   "cell_type": "code",
   "execution_count": 155,
   "metadata": {},
   "outputs": [],
   "source": [
    "def get_authors():\n",
    "    try:\n",
    "        authors = driver.find_elements(By.CLASS_NAME,\"authors-info\")\n",
    "        authors = [i.text.replace(';', '') for i in authors]\n",
    "        return \", \".join(authors)\n",
    "    except NoSuchElementException:\n",
    "        return None\n",
    "    except Exception:\n",
    "        return None"
   ]
  },
  {
   "cell_type": "code",
   "execution_count": 156,
   "metadata": {},
   "outputs": [],
   "source": [
    "def get_titles():\n",
    "    try:\n",
    "        title_journal_name = driver.title.split(\" | \")\n",
    "        return title_journal_name[0], title_journal_name[1]\n",
    "    except NoSuchElementException:\n",
    "        return None, None\n",
    "    except IndexError:\n",
    "        return None, None\n",
    "    except Exception:\n",
    "        return None, None"
   ]
  },
  {
   "cell_type": "code",
   "execution_count": 157,
   "metadata": {},
   "outputs": [],
   "source": [
    "def get_volume():\n",
    "    return None"
   ]
  },
  {
   "cell_type": "code",
   "execution_count": 158,
   "metadata": {},
   "outputs": [],
   "source": [
    "def get_citations():\n",
    "    try:\n",
    "        return driver.find_elements(By.CLASS_NAME,\"document-banner-metric-count\")[0].text\n",
    "    except NoSuchElementException:\n",
    "        return None\n",
    "    except Exception:\n",
    "        return None"
   ]
  },
  {
   "cell_type": "code",
   "execution_count": 159,
   "metadata": {},
   "outputs": [],
   "source": [
    "def get_doi():\n",
    "    try:\n",
    "        return driver.find_element(By.XPATH,\"//div[@class='u-pb-1 stats-document-abstract-doi']/a\").text\n",
    "    except NoSuchElementException:\n",
    "        return None\n",
    "    except Exception:\n",
    "        return None"
   ]
  },
  {
   "cell_type": "code",
   "execution_count": 160,
   "metadata": {},
   "outputs": [],
   "source": [
    "def get_page_no():\n",
    "    try:\n",
    "        ele = driver.find_element(By.XPATH,\"//div[@class='col-6']\")\n",
    "        ele_str = ele.text.split('\\n')[0].split(':')[1].strip()\n",
    "        return ele_str\n",
    "    except NoSuchElementException:\n",
    "        return None\n",
    "    except Exception:\n",
    "        return None"
   ]
  },
  {
   "cell_type": "code",
   "execution_count": 161,
   "metadata": {},
   "outputs": [],
   "source": [
    "def get_date():\n",
    "    try:\n",
    "        _date = driver.find_element(By.XPATH,\"//div[@class='u-pb-1 doc-abstract-dateadded']\")\n",
    "    except NoSuchElementException:\n",
    "        try:\n",
    "            _date = driver.find_element(By.XPATH,\"//div[@class='u-pb-1 doc-abstract-pubdate']\")\n",
    "        except NoSuchElementException:\n",
    "            _date = None\n",
    "        except Exception:\n",
    "            _date = None\n",
    "    if not _date:\n",
    "        return None, None\n",
    "    try:\n",
    "        _date = _date.text.split(\": \")[1].strip().split(\" \")\n",
    "        _month = _date[1]\n",
    "        _year = _date[2]\n",
    "    # _date = _date[0]\n",
    "    except IndexError:\n",
    "        return None, None\n",
    "    return _month, _year"
   ]
  },
  {
   "cell_type": "code",
   "execution_count": 162,
   "metadata": {},
   "outputs": [],
   "source": [
    "def get_issn():\n",
    "    try:\n",
    "        issn = driver.find_elements(By.XPATH,\"//div[@class='u-pb-1']\")\n",
    "        return issn[2].text.split(':')[1].strip()\n",
    "    except NoSuchElementException:\n",
    "        return None\n",
    "    except Exception:\n",
    "        return None"
   ]
  },
  {
   "cell_type": "code",
   "execution_count": 163,
   "metadata": {},
   "outputs": [],
   "source": [
    "def get_data(url):\n",
    "    '''\n",
    "    @param url: url of the article\n",
    "    '''\n",
    "    if not str(url).startswith('http'):\n",
    "        url = base['ieee'] + str(url)\n",
    "    \n",
    "    driver.get(url)\n",
    "    authors = get_authors()\n",
    "    title_of_paper, journal_name = get_titles()\n",
    "    volume = get_volume()\n",
    "    citation = get_citations()\n",
    "    doi = get_doi()\n",
    "    page_no = get_page_no()\n",
    "    month, year = get_date()\n",
    "    issn = get_issn()\n",
    "\n",
    "    return {\n",
    "        'authors' : authors,\n",
    "        'title of paper': title_of_paper,\n",
    "        'journal name': journal_name,\n",
    "        'volume': volume,\n",
    "        'citations': citation,\n",
    "        'doi': doi,\n",
    "        'page no': page_no,\n",
    "        'month of publication': month,\n",
    "        'year of publication': year,\n",
    "        'ISSN': issn,\n",
    "        'url': url,\n",
    "    }"
   ]
  },
  {
   "cell_type": "code",
   "execution_count": 164,
   "metadata": {},
   "outputs": [],
   "source": [
    "def get_input_links():\n",
    "    '''\n",
    "    Get the input links from the input file\n",
    "    '''\n",
    "    with open(INPUT_FILE, 'r') as links:\n",
    "        urls = links.readlines()\n",
    "    # with open(INPUT_FILE, 'w') as links:\n",
    "    #     links.write('')\n",
    "    return urls"
   ]
  },
  {
   "cell_type": "code",
   "execution_count": 165,
   "metadata": {},
   "outputs": [
    {
     "name": "stdout",
     "output_type": "stream",
     "text": [
      "Getting input links...\n",
      "Getting data...\n",
      "Writing data to file...\n",
      "Data saved to file!\n"
     ]
    }
   ],
   "source": [
    "logger('Getting input links...')\n",
    "# urls = get_input_links()\n",
    "urls = [i for i in range(8248650, 8248800)]\n",
    "data = []\n",
    "logger('Getting data...')\n",
    "for url in urls:\n",
    "    data.append(get_data(url))\n",
    "driver.quit()\n",
    "logger('Writing data to file...')\n",
    "if not os.path.exists(OUTPUT_FILE):\n",
    "    df = pd.DataFrame()\n",
    "else:\n",
    "    try:\n",
    "        df = pd.read_csv(OUTPUT_FILE)\n",
    "    except EmptyDataError:\n",
    "        df = pd.DataFrame()\n",
    "\n",
    "new_df = pd.DataFrame(data)\n",
    "df = df.append(new_df)\n",
    "\n",
    "try:\n",
    "    os.remove(OUTPUT_FILE)\n",
    "except:\n",
    "    print('OUTPUT_FILE cannot be deleted')\n",
    "if not os.path.exists(OUTPUT_FILE):\n",
    "    df.to_csv(OUTPUT_FILE, index=False)\n",
    "    logger('Data saved to file!')"
   ]
  },
  {
   "cell_type": "code",
   "execution_count": null,
   "metadata": {},
   "outputs": [],
   "source": []
  }
 ],
 "metadata": {
  "interpreter": {
   "hash": "63fd5069d213b44bf678585dea6b12cceca9941eaf7f819626cde1f2670de90d"
  },
  "kernelspec": {
   "display_name": "Python 3.9.6 64-bit",
   "language": "python",
   "name": "python3"
  },
  "language_info": {
   "codemirror_mode": {
    "name": "ipython",
    "version": 3
   },
   "file_extension": ".py",
   "mimetype": "text/x-python",
   "name": "python",
   "nbconvert_exporter": "python",
   "pygments_lexer": "ipython3",
   "version": "3.9.6"
  },
  "orig_nbformat": 4
 },
 "nbformat": 4,
 "nbformat_minor": 2
}
