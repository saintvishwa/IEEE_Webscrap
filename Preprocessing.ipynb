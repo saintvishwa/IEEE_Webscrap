{
  "nbformat": 4,
  "nbformat_minor": 0,
  "metadata": {
    "colab": {
      "name": "Preprocessing.ipynb",
      "provenance": [],
      "collapsed_sections": []
    },
    "kernelspec": {
      "name": "python3",
      "display_name": "Python 3"
    },
    "language_info": {
      "name": "python"
    }
  },
  "cells": [
    {
      "cell_type": "code",
      "execution_count": null,
      "metadata": {
        "colab": {
          "base_uri": "https://localhost:8080/",
          "height": 1000
        },
        "id": "g63Sdp34gju_",
        "outputId": "0b30c6ff-56dc-48ef-8eae-30df42d36989"
      },
      "outputs": [
        {
          "output_type": "execute_result",
          "data": {
            "text/html": [
              "\n",
              "  <div id=\"df-045db322-dbbf-40d3-9b19-11e2ddeda166\">\n",
              "    <div class=\"colab-df-container\">\n",
              "      <div>\n",
              "<style scoped>\n",
              "    .dataframe tbody tr th:only-of-type {\n",
              "        vertical-align: middle;\n",
              "    }\n",
              "\n",
              "    .dataframe tbody tr th {\n",
              "        vertical-align: top;\n",
              "    }\n",
              "\n",
              "    .dataframe thead th {\n",
              "        text-align: right;\n",
              "    }\n",
              "</style>\n",
              "<table border=\"1\" class=\"dataframe\">\n",
              "  <thead>\n",
              "    <tr style=\"text-align: right;\">\n",
              "      <th></th>\n",
              "      <th>Unnamed: 0</th>\n",
              "      <th>authors</th>\n",
              "      <th>title of paper</th>\n",
              "      <th>journal name</th>\n",
              "      <th>citations</th>\n",
              "      <th>doi</th>\n",
              "      <th>page no</th>\n",
              "      <th>month of publication</th>\n",
              "      <th>year of publication</th>\n",
              "      <th>ISSN</th>\n",
              "      <th>url</th>\n",
              "      <th>Journal_encoded</th>\n",
              "    </tr>\n",
              "  </thead>\n",
              "  <tbody>\n",
              "    <tr>\n",
              "      <th>0</th>\n",
              "      <td>0</td>\n",
              "      <td>Andrija Goranović, Marcus Meisel, Stefan Wilke...</td>\n",
              "      <td>Hyperledger Fabric Smart Grid Communication Te...</td>\n",
              "      <td>IEEE Conference Publication</td>\n",
              "      <td>5.0</td>\n",
              "      <td>10.1109/WFCS.2019.8758000</td>\n",
              "      <td>27-29 May 2019</td>\n",
              "      <td>July</td>\n",
              "      <td>2019.0</td>\n",
              "      <td>1882-2161.0</td>\n",
              "      <td>https://ieeexplore.ieee.org/abstract/document/...</td>\n",
              "      <td>2</td>\n",
              "    </tr>\n",
              "    <tr>\n",
              "      <th>1</th>\n",
              "      <td>1</td>\n",
              "      <td>Obaidur Rahman, Kashem M. Muttaqi, Danny Sutanto</td>\n",
              "      <td>Three Phase Power Flow Analysis of Distributio...</td>\n",
              "      <td>IEEE Conference Publication</td>\n",
              "      <td>163.0</td>\n",
              "      <td>10.1109/AUPEC.2018.8758001</td>\n",
              "      <td>27-30 Nov. 2018</td>\n",
              "      <td>July</td>\n",
              "      <td>2019.0</td>\n",
              "      <td>2169-3536</td>\n",
              "      <td>https://ieeexplore.ieee.org/abstract/document/...</td>\n",
              "      <td>2</td>\n",
              "    </tr>\n",
              "    <tr>\n",
              "      <th>2</th>\n",
              "      <td>2</td>\n",
              "      <td>Shiva Azimi, Brejesh Lall, Tapan K. Gandhi</td>\n",
              "      <td>Performance Evalution of 3D Keypoint Detectors...</td>\n",
              "      <td>IEEE Conference Publication</td>\n",
              "      <td>6.0</td>\n",
              "      <td>10.23919/MVA.2019.8758002</td>\n",
              "      <td>27-31 May 2019</td>\n",
              "      <td>July</td>\n",
              "      <td>2019.0</td>\n",
              "      <td>1882-0927.0</td>\n",
              "      <td>https://ieeexplore.ieee.org/abstract/document/...</td>\n",
              "      <td>2</td>\n",
              "    </tr>\n",
              "    <tr>\n",
              "      <th>3</th>\n",
              "      <td>3</td>\n",
              "      <td>S.A Syed Mustaffa, I. Musirin, M.M. Othman, M....</td>\n",
              "      <td>Location and Sizing of Distributed Generation ...</td>\n",
              "      <td>IEEE Conference Publication</td>\n",
              "      <td>42.0</td>\n",
              "      <td>10.1109/AUPEC.2018.8758003</td>\n",
              "      <td>27-30 Nov. 2018</td>\n",
              "      <td>July</td>\n",
              "      <td>2019.0</td>\n",
              "      <td>2169-3536</td>\n",
              "      <td>https://ieeexplore.ieee.org/abstract/document/...</td>\n",
              "      <td>2</td>\n",
              "    </tr>\n",
              "    <tr>\n",
              "      <th>4</th>\n",
              "      <td>4</td>\n",
              "      <td>Philip Tobianto Daely, Dong-Seong Kim</td>\n",
              "      <td>Bio-Inspired Cooperative Localization in Indus...</td>\n",
              "      <td>IEEE Conference Publication</td>\n",
              "      <td>3.0</td>\n",
              "      <td>10.1109/WFCS.2019.8758004</td>\n",
              "      <td>27-29 May 2019</td>\n",
              "      <td>July</td>\n",
              "      <td>2019.0</td>\n",
              "      <td>1882-2141.0</td>\n",
              "      <td>https://ieeexplore.ieee.org/abstract/document/...</td>\n",
              "      <td>2</td>\n",
              "    </tr>\n",
              "    <tr>\n",
              "      <th>...</th>\n",
              "      <td>...</td>\n",
              "      <td>...</td>\n",
              "      <td>...</td>\n",
              "      <td>...</td>\n",
              "      <td>...</td>\n",
              "      <td>...</td>\n",
              "      <td>...</td>\n",
              "      <td>...</td>\n",
              "      <td>...</td>\n",
              "      <td>...</td>\n",
              "      <td>...</td>\n",
              "      <td>...</td>\n",
              "    </tr>\n",
              "    <tr>\n",
              "      <th>504</th>\n",
              "      <td>645</td>\n",
              "      <td>Fortino Mendoza-Mondragón, Víctor Manuel Herná...</td>\n",
              "      <td>Robust Speed Control of Permanent Magnet Synch...</td>\n",
              "      <td>IEEE Journals &amp; Magazine</td>\n",
              "      <td>48.0</td>\n",
              "      <td>10.1109/TIE.2017.2786203</td>\n",
              "      <td>6099 - 6108</td>\n",
              "      <td>January</td>\n",
              "      <td>2018.0</td>\n",
              "      <td>2169-3536</td>\n",
              "      <td>https://ieeexplore.ieee.org/abstract/document/...</td>\n",
              "      <td>3</td>\n",
              "    </tr>\n",
              "    <tr>\n",
              "      <th>505</th>\n",
              "      <td>646</td>\n",
              "      <td>Andreas Andersson, Torbjörn Thiringer</td>\n",
              "      <td>Motion Sensorless IPMSM Control Using Linear M...</td>\n",
              "      <td>IEEE Journals &amp; Magazine</td>\n",
              "      <td>38.0</td>\n",
              "      <td>10.1109/TTE.2018.2790709</td>\n",
              "      <td>464 - 473</td>\n",
              "      <td>January</td>\n",
              "      <td>2018.0</td>\n",
              "      <td>2169-3536</td>\n",
              "      <td>https://ieeexplore.ieee.org/abstract/document/...</td>\n",
              "      <td>3</td>\n",
              "    </tr>\n",
              "    <tr>\n",
              "      <th>506</th>\n",
              "      <td>647</td>\n",
              "      <td>Hao Wu, Wei Wang</td>\n",
              "      <td>A Game Theory Based Collaborative Security Det...</td>\n",
              "      <td>IEEE Journals &amp; Magazine</td>\n",
              "      <td>42.0</td>\n",
              "      <td>10.1109/TIFS.2018.2790382</td>\n",
              "      <td>1432 - 1445</td>\n",
              "      <td>January</td>\n",
              "      <td>2018.0</td>\n",
              "      <td>2169-3536</td>\n",
              "      <td>https://ieeexplore.ieee.org/abstract/document/...</td>\n",
              "      <td>3</td>\n",
              "    </tr>\n",
              "    <tr>\n",
              "      <th>507</th>\n",
              "      <td>648</td>\n",
              "      <td>Pengzhan Wang, Hongli Xu, Liusheng Huang, Chen...</td>\n",
              "      <td>Minimizing Controller Response Time Through Fl...</td>\n",
              "      <td>IEEE Journals &amp; Magazine</td>\n",
              "      <td>23.0</td>\n",
              "      <td>10.1109/TNET.2017.2786268</td>\n",
              "      <td>562 - 575</td>\n",
              "      <td>January</td>\n",
              "      <td>2018.0</td>\n",
              "      <td>2169-3536</td>\n",
              "      <td>https://ieeexplore.ieee.org/abstract/document/...</td>\n",
              "      <td>3</td>\n",
              "    </tr>\n",
              "    <tr>\n",
              "      <th>508</th>\n",
              "      <td>649</td>\n",
              "      <td>Suzie Brown, Oliver Johnson, Andrea Tassi</td>\n",
              "      <td>Reliability of Broadcast Communications Under ...</td>\n",
              "      <td>IEEE Journals &amp; Magazine</td>\n",
              "      <td>13.0</td>\n",
              "      <td>10.1109/TVT.2018.2790436</td>\n",
              "      <td>4677 - 4682</td>\n",
              "      <td>January</td>\n",
              "      <td>2018.0</td>\n",
              "      <td>2169-3536</td>\n",
              "      <td>https://ieeexplore.ieee.org/abstract/document/...</td>\n",
              "      <td>3</td>\n",
              "    </tr>\n",
              "  </tbody>\n",
              "</table>\n",
              "<p>509 rows × 12 columns</p>\n",
              "</div>\n",
              "      <button class=\"colab-df-convert\" onclick=\"convertToInteractive('df-045db322-dbbf-40d3-9b19-11e2ddeda166')\"\n",
              "              title=\"Convert this dataframe to an interactive table.\"\n",
              "              style=\"display:none;\">\n",
              "        \n",
              "  <svg xmlns=\"http://www.w3.org/2000/svg\" height=\"24px\"viewBox=\"0 0 24 24\"\n",
              "       width=\"24px\">\n",
              "    <path d=\"M0 0h24v24H0V0z\" fill=\"none\"/>\n",
              "    <path d=\"M18.56 5.44l.94 2.06.94-2.06 2.06-.94-2.06-.94-.94-2.06-.94 2.06-2.06.94zm-11 1L8.5 8.5l.94-2.06 2.06-.94-2.06-.94L8.5 2.5l-.94 2.06-2.06.94zm10 10l.94 2.06.94-2.06 2.06-.94-2.06-.94-.94-2.06-.94 2.06-2.06.94z\"/><path d=\"M17.41 7.96l-1.37-1.37c-.4-.4-.92-.59-1.43-.59-.52 0-1.04.2-1.43.59L10.3 9.45l-7.72 7.72c-.78.78-.78 2.05 0 2.83L4 21.41c.39.39.9.59 1.41.59.51 0 1.02-.2 1.41-.59l7.78-7.78 2.81-2.81c.8-.78.8-2.07 0-2.86zM5.41 20L4 18.59l7.72-7.72 1.47 1.35L5.41 20z\"/>\n",
              "  </svg>\n",
              "      </button>\n",
              "      \n",
              "  <style>\n",
              "    .colab-df-container {\n",
              "      display:flex;\n",
              "      flex-wrap:wrap;\n",
              "      gap: 12px;\n",
              "    }\n",
              "\n",
              "    .colab-df-convert {\n",
              "      background-color: #E8F0FE;\n",
              "      border: none;\n",
              "      border-radius: 50%;\n",
              "      cursor: pointer;\n",
              "      display: none;\n",
              "      fill: #1967D2;\n",
              "      height: 32px;\n",
              "      padding: 0 0 0 0;\n",
              "      width: 32px;\n",
              "    }\n",
              "\n",
              "    .colab-df-convert:hover {\n",
              "      background-color: #E2EBFA;\n",
              "      box-shadow: 0px 1px 2px rgba(60, 64, 67, 0.3), 0px 1px 3px 1px rgba(60, 64, 67, 0.15);\n",
              "      fill: #174EA6;\n",
              "    }\n",
              "\n",
              "    [theme=dark] .colab-df-convert {\n",
              "      background-color: #3B4455;\n",
              "      fill: #D2E3FC;\n",
              "    }\n",
              "\n",
              "    [theme=dark] .colab-df-convert:hover {\n",
              "      background-color: #434B5C;\n",
              "      box-shadow: 0px 1px 3px 1px rgba(0, 0, 0, 0.15);\n",
              "      filter: drop-shadow(0px 1px 2px rgba(0, 0, 0, 0.3));\n",
              "      fill: #FFFFFF;\n",
              "    }\n",
              "  </style>\n",
              "\n",
              "      <script>\n",
              "        const buttonEl =\n",
              "          document.querySelector('#df-045db322-dbbf-40d3-9b19-11e2ddeda166 button.colab-df-convert');\n",
              "        buttonEl.style.display =\n",
              "          google.colab.kernel.accessAllowed ? 'block' : 'none';\n",
              "\n",
              "        async function convertToInteractive(key) {\n",
              "          const element = document.querySelector('#df-045db322-dbbf-40d3-9b19-11e2ddeda166');\n",
              "          const dataTable =\n",
              "            await google.colab.kernel.invokeFunction('convertToInteractive',\n",
              "                                                     [key], {});\n",
              "          if (!dataTable) return;\n",
              "\n",
              "          const docLinkHtml = 'Like what you see? Visit the ' +\n",
              "            '<a target=\"_blank\" href=https://colab.research.google.com/notebooks/data_table.ipynb>data table notebook</a>'\n",
              "            + ' to learn more about interactive tables.';\n",
              "          element.innerHTML = '';\n",
              "          dataTable['output_type'] = 'display_data';\n",
              "          await google.colab.output.renderOutput(dataTable, element);\n",
              "          const docLink = document.createElement('div');\n",
              "          docLink.innerHTML = docLinkHtml;\n",
              "          element.appendChild(docLink);\n",
              "        }\n",
              "      </script>\n",
              "    </div>\n",
              "  </div>\n",
              "  "
            ],
            "text/plain": [
              "     Unnamed: 0  ... Journal_encoded\n",
              "0             0  ...               2\n",
              "1             1  ...               2\n",
              "2             2  ...               2\n",
              "3             3  ...               2\n",
              "4             4  ...               2\n",
              "..          ...  ...             ...\n",
              "504         645  ...               3\n",
              "505         646  ...               3\n",
              "506         647  ...               3\n",
              "507         648  ...               3\n",
              "508         649  ...               3\n",
              "\n",
              "[509 rows x 12 columns]"
            ]
          },
          "metadata": {},
          "execution_count": 1
        }
      ],
      "source": [
        "import pandas as pd\n",
        "import numpy as np\n",
        "import matplotlib as mpl\n",
        "import matplotlib.pyplot as plt\n",
        "import seaborn as sns\n",
        "df=pd.read_csv('file_name.csv')\n",
        "df"
      ]
    },
    {
      "cell_type": "code",
      "source": [
        "df.shape"
      ],
      "metadata": {
        "colab": {
          "base_uri": "https://localhost:8080/"
        },
        "id": "40n8m4VXiHoD",
        "outputId": "a5e6f132-b31f-4fe5-96f0-fb367bf2372c"
      },
      "execution_count": null,
      "outputs": [
        {
          "output_type": "execute_result",
          "data": {
            "text/plain": [
              "(509, 12)"
            ]
          },
          "metadata": {},
          "execution_count": 2
        }
      ]
    },
    {
      "cell_type": "code",
      "source": [
        "df.dtypes"
      ],
      "metadata": {
        "colab": {
          "base_uri": "https://localhost:8080/"
        },
        "id": "prBtzlR78TqM",
        "outputId": "832e0bf1-6c56-407f-ad5f-e5d1fa350bcb"
      },
      "execution_count": null,
      "outputs": [
        {
          "output_type": "execute_result",
          "data": {
            "text/plain": [
              "Unnamed: 0                int64\n",
              "authors                  object\n",
              "title of paper           object\n",
              "journal name             object\n",
              "citations               float64\n",
              "doi                      object\n",
              "page no                  object\n",
              "month of publication     object\n",
              "year of publication     float64\n",
              "ISSN                     object\n",
              "url                      object\n",
              "Journal_encoded           int64\n",
              "dtype: object"
            ]
          },
          "metadata": {},
          "execution_count": 3
        }
      ]
    },
    {
      "cell_type": "markdown",
      "source": [
        "Checking For Missing Values"
      ],
      "metadata": {
        "id": "7bwpYHAYh6eq"
      }
    },
    {
      "cell_type": "code",
      "source": [
        "df.isnull().sum()"
      ],
      "metadata": {
        "colab": {
          "base_uri": "https://localhost:8080/"
        },
        "id": "Zv4XHjCjhrE9",
        "outputId": "2d3e29d2-03d5-40ea-eaa1-2263d3ce10e5"
      },
      "execution_count": null,
      "outputs": [
        {
          "output_type": "execute_result",
          "data": {
            "text/plain": [
              "Unnamed: 0              0\n",
              "authors                 0\n",
              "title of paper          0\n",
              "journal name            0\n",
              "citations               0\n",
              "doi                     0\n",
              "page no                 0\n",
              "month of publication    0\n",
              "year of publication     0\n",
              "ISSN                    0\n",
              "url                     0\n",
              "Journal_encoded         0\n",
              "dtype: int64"
            ]
          },
          "metadata": {},
          "execution_count": 4
        }
      ]
    },
    {
      "cell_type": "markdown",
      "source": [
        "Label Encoding on Journal Name"
      ],
      "metadata": {
        "id": "c60t40ezsQYu"
      }
    },
    {
      "cell_type": "code",
      "source": [
        "from sklearn import preprocessing\n",
        " \n",
        "label_encoder = preprocessing.LabelEncoder()\n",
        " \n",
        "df['Journal_encoded']= label_encoder.fit_transform(df['journal name'])"
      ],
      "metadata": {
        "id": "dst8MOZUseHm"
      },
      "execution_count": null,
      "outputs": []
    },
    {
      "cell_type": "markdown",
      "source": [
        "Correlation Analysis on Journal Name and Number of citations"
      ],
      "metadata": {
        "id": "N4PS54eVsxYI"
      }
    },
    {
      "cell_type": "code",
      "source": [
        "import matplotlib.pyplot as plt\n",
        "x=df['Journal_encoded']\n",
        "y=df['citations']\n",
        "plt.scatter(x, y)\n",
        "plt.plot(np.unique(x), np.poly1d(np.polyfit(x, y, 1))\n",
        "         (np.unique(x)), color='red')\n",
        "plt.title('Correlation')\n",
        "\n",
        "plt.scatter(x, y)\n",
        "  \n",
        "# fits the best fitting line to the data\n",
        "plt.plot(np.unique(x), \n",
        "         np.poly1d(np.polyfit(x, y, 1))\n",
        "         (np.unique(x)), color='red')\n",
        "  \n",
        "\n",
        "plt.xlabel('Journal')\n",
        "plt.ylabel('Citations')\n"
      ],
      "metadata": {
        "id": "Pw-cgsN9sr7i",
        "colab": {
          "base_uri": "https://localhost:8080/",
          "height": 312
        },
        "outputId": "e5da441d-8012-4f8d-e341-c00cbd4ef7c5"
      },
      "execution_count": null,
      "outputs": [
        {
          "output_type": "execute_result",
          "data": {
            "text/plain": [
              "Text(0, 0.5, 'Citations')"
            ]
          },
          "metadata": {},
          "execution_count": 6
        },
        {
          "output_type": "display_data",
          "data": {
            "image/png": "[encoded data removed]",
            "text/plain": [
              "<Figure size 432x288 with 1 Axes>"
            ]
          },
          "metadata": {
            "needs_background": "light"
          }
        }
      ]
    },
    {
      "cell_type": "markdown",
      "source": [
        "Fixing Data consistency in ISSN column"
      ],
      "metadata": {
        "id": "IUs6Abhsj6Dy"
      }
    },
    {
      "cell_type": "code",
      "source": [
        "rows=df.shape[0]\n",
        "\n",
        "temp=[]\n",
        "\n",
        "for i in df['ISSN']:\n",
        "    if '-' not in i:\n",
        "       temp.append(i[:4]+'-'+i[4:])\n",
        "    else:\n",
        "       temp.append(i) \n",
        "\n",
        "df['ISSN']=temp"
      ],
      "metadata": {
        "id": "Vbb8Hq4_hrLR"
      },
      "execution_count": null,
      "outputs": []
    },
    {
      "cell_type": "markdown",
      "source": [
        "Data Transformation in Date column"
      ],
      "metadata": {
        "id": "zXacvFCIrIsT"
      }
    },
    {
      "cell_type": "code",
      "source": [
        "# removed the date part\n",
        "temp_pageno = df[\"page no\"] \n",
        "dummy=[]\n",
        "for x in temp_pageno:\n",
        "  z = x\n",
        "  t = z.replace(\" \", \"\")\n",
        "  e = \"\"\n",
        "  for i in t:\n",
        "    if i >='A' and i<='Z':\n",
        "      break\n",
        "    else:\n",
        "      e += str(i)\n",
        "   #print(e)\n",
        "  dummy.append(e)"
      ],
      "metadata": {
        "id": "qx6LXBPihrNi"
      },
      "execution_count": null,
      "outputs": []
    },
    {
      "cell_type": "code",
      "source": [
        "df['page no']=dummy"
      ],
      "metadata": {
        "id": "0H6cE1c447CA"
      },
      "execution_count": null,
      "outputs": []
    },
    {
      "cell_type": "code",
      "source": [
        "df.head()"
      ],
      "metadata": {
        "id": "lIS-jABQhrY3",
        "colab": {
          "base_uri": "https://localhost:8080/",
          "height": 722
        },
        "outputId": "d157447a-925e-4227-958f-5dfc211e7119"
      },
      "execution_count": null,
      "outputs": [
        {
          "output_type": "execute_result",
          "data": {
            "text/html": [
              "\n",
              "  <div id=\"df-5695030f-cc94-4c6c-8caf-cd69a5a54d21\">\n",
              "    <div class=\"colab-df-container\">\n",
              "      <div>\n",
              "<style scoped>\n",
              "    .dataframe tbody tr th:only-of-type {\n",
              "        vertical-align: middle;\n",
              "    }\n",
              "\n",
              "    .dataframe tbody tr th {\n",
              "        vertical-align: top;\n",
              "    }\n",
              "\n",
              "    .dataframe thead th {\n",
              "        text-align: right;\n",
              "    }\n",
              "</style>\n",
              "<table border=\"1\" class=\"dataframe\">\n",
              "  <thead>\n",
              "    <tr style=\"text-align: right;\">\n",
              "      <th></th>\n",
              "      <th>Unnamed: 0</th>\n",
              "      <th>authors</th>\n",
              "      <th>title of paper</th>\n",
              "      <th>journal name</th>\n",
              "      <th>citations</th>\n",
              "      <th>doi</th>\n",
              "      <th>page no</th>\n",
              "      <th>month of publication</th>\n",
              "      <th>year of publication</th>\n",
              "      <th>ISSN</th>\n",
              "      <th>url</th>\n",
              "      <th>Journal_encoded</th>\n",
              "    </tr>\n",
              "  </thead>\n",
              "  <tbody>\n",
              "    <tr>\n",
              "      <th>0</th>\n",
              "      <td>0</td>\n",
              "      <td>Andrija Goranović, Marcus Meisel, Stefan Wilke...</td>\n",
              "      <td>Hyperledger Fabric Smart Grid Communication Te...</td>\n",
              "      <td>IEEE Conference Publication</td>\n",
              "      <td>5.0</td>\n",
              "      <td>10.1109/WFCS.2019.8758000</td>\n",
              "      <td>27-29</td>\n",
              "      <td>July</td>\n",
              "      <td>2019.0</td>\n",
              "      <td>1882-2161.0</td>\n",
              "      <td>https://ieeexplore.ieee.org/abstract/document/...</td>\n",
              "      <td>2</td>\n",
              "    </tr>\n",
              "    <tr>\n",
              "      <th>1</th>\n",
              "      <td>1</td>\n",
              "      <td>Obaidur Rahman, Kashem M. Muttaqi, Danny Sutanto</td>\n",
              "      <td>Three Phase Power Flow Analysis of Distributio...</td>\n",
              "      <td>IEEE Conference Publication</td>\n",
              "      <td>163.0</td>\n",
              "      <td>10.1109/AUPEC.2018.8758001</td>\n",
              "      <td>27-30</td>\n",
              "      <td>July</td>\n",
              "      <td>2019.0</td>\n",
              "      <td>2169-3536</td>\n",
              "      <td>https://ieeexplore.ieee.org/abstract/document/...</td>\n",
              "      <td>2</td>\n",
              "    </tr>\n",
              "    <tr>\n",
              "      <th>2</th>\n",
              "      <td>2</td>\n",
              "      <td>Shiva Azimi, Brejesh Lall, Tapan K. Gandhi</td>\n",
              "      <td>Performance Evalution of 3D Keypoint Detectors...</td>\n",
              "      <td>IEEE Conference Publication</td>\n",
              "      <td>6.0</td>\n",
              "      <td>10.23919/MVA.2019.8758002</td>\n",
              "      <td>27-31</td>\n",
              "      <td>July</td>\n",
              "      <td>2019.0</td>\n",
              "      <td>1882-0927.0</td>\n",
              "      <td>https://ieeexplore.ieee.org/abstract/document/...</td>\n",
              "      <td>2</td>\n",
              "    </tr>\n",
              "    <tr>\n",
              "      <th>3</th>\n",
              "      <td>3</td>\n",
              "      <td>S.A Syed Mustaffa, I. Musirin, M.M. Othman, M....</td>\n",
              "      <td>Location and Sizing of Distributed Generation ...</td>\n",
              "      <td>IEEE Conference Publication</td>\n",
              "      <td>42.0</td>\n",
              "      <td>10.1109/AUPEC.2018.8758003</td>\n",
              "      <td>27-30</td>\n",
              "      <td>July</td>\n",
              "      <td>2019.0</td>\n",
              "      <td>2169-3536</td>\n",
              "      <td>https://ieeexplore.ieee.org/abstract/document/...</td>\n",
              "      <td>2</td>\n",
              "    </tr>\n",
              "    <tr>\n",
              "      <th>4</th>\n",
              "      <td>4</td>\n",
              "      <td>Philip Tobianto Daely, Dong-Seong Kim</td>\n",
              "      <td>Bio-Inspired Cooperative Localization in Indus...</td>\n",
              "      <td>IEEE Conference Publication</td>\n",
              "      <td>3.0</td>\n",
              "      <td>10.1109/WFCS.2019.8758004</td>\n",
              "      <td>27-29</td>\n",
              "      <td>July</td>\n",
              "      <td>2019.0</td>\n",
              "      <td>1882-2141.0</td>\n",
              "      <td>https://ieeexplore.ieee.org/abstract/document/...</td>\n",
              "      <td>2</td>\n",
              "    </tr>\n",
              "  </tbody>\n",
              "</table>\n",
              "</div>\n",
              "      <button class=\"colab-df-convert\" onclick=\"convertToInteractive('df-5695030f-cc94-4c6c-8caf-cd69a5a54d21')\"\n",
              "              title=\"Convert this dataframe to an interactive table.\"\n",
              "              style=\"display:none;\">\n",
              "        \n",
              "  <svg xmlns=\"http://www.w3.org/2000/svg\" height=\"24px\"viewBox=\"0 0 24 24\"\n",
              "       width=\"24px\">\n",
              "    <path d=\"M0 0h24v24H0V0z\" fill=\"none\"/>\n",
              "    <path d=\"M18.56 5.44l.94 2.06.94-2.06 2.06-.94-2.06-.94-.94-2.06-.94 2.06-2.06.94zm-11 1L8.5 8.5l.94-2.06 2.06-.94-2.06-.94L8.5 2.5l-.94 2.06-2.06.94zm10 10l.94 2.06.94-2.06 2.06-.94-2.06-.94-.94-2.06-.94 2.06-2.06.94z\"/><path d=\"M17.41 7.96l-1.37-1.37c-.4-.4-.92-.59-1.43-.59-.52 0-1.04.2-1.43.59L10.3 9.45l-7.72 7.72c-.78.78-.78 2.05 0 2.83L4 21.41c.39.39.9.59 1.41.59.51 0 1.02-.2 1.41-.59l7.78-7.78 2.81-2.81c.8-.78.8-2.07 0-2.86zM5.41 20L4 18.59l7.72-7.72 1.47 1.35L5.41 20z\"/>\n",
              "  </svg>\n",
              "      </button>\n",
              "      \n",
              "  <style>\n",
              "    .colab-df-container {\n",
              "      display:flex;\n",
              "      flex-wrap:wrap;\n",
              "      gap: 12px;\n",
              "    }\n",
              "\n",
              "    .colab-df-convert {\n",
              "      background-color: #E8F0FE;\n",
              "      border: none;\n",
              "      border-radius: 50%;\n",
              "      cursor: pointer;\n",
              "      display: none;\n",
              "      fill: #1967D2;\n",
              "      height: 32px;\n",
              "      padding: 0 0 0 0;\n",
              "      width: 32px;\n",
              "    }\n",
              "\n",
              "    .colab-df-convert:hover {\n",
              "      background-color: #E2EBFA;\n",
              "      box-shadow: 0px 1px 2px rgba(60, 64, 67, 0.3), 0px 1px 3px 1px rgba(60, 64, 67, 0.15);\n",
              "      fill: #174EA6;\n",
              "    }\n",
              "\n",
              "    [theme=dark] .colab-df-convert {\n",
              "      background-color: #3B4455;\n",
              "      fill: #D2E3FC;\n",
              "    }\n",
              "\n",
              "    [theme=dark] .colab-df-convert:hover {\n",
              "      background-color: #434B5C;\n",
              "      box-shadow: 0px 1px 3px 1px rgba(0, 0, 0, 0.15);\n",
              "      filter: drop-shadow(0px 1px 2px rgba(0, 0, 0, 0.3));\n",
              "      fill: #FFFFFF;\n",
              "    }\n",
              "  </style>\n",
              "\n",
              "      <script>\n",
              "        const buttonEl =\n",
              "          document.querySelector('#df-5695030f-cc94-4c6c-8caf-cd69a5a54d21 button.colab-df-convert');\n",
              "        buttonEl.style.display =\n",
              "          google.colab.kernel.accessAllowed ? 'block' : 'none';\n",
              "\n",
              "        async function convertToInteractive(key) {\n",
              "          const element = document.querySelector('#df-5695030f-cc94-4c6c-8caf-cd69a5a54d21');\n",
              "          const dataTable =\n",
              "            await google.colab.kernel.invokeFunction('convertToInteractive',\n",
              "                                                     [key], {});\n",
              "          if (!dataTable) return;\n",
              "\n",
              "          const docLinkHtml = 'Like what you see? Visit the ' +\n",
              "            '<a target=\"_blank\" href=https://colab.research.google.com/notebooks/data_table.ipynb>data table notebook</a>'\n",
              "            + ' to learn more about interactive tables.';\n",
              "          element.innerHTML = '';\n",
              "          dataTable['output_type'] = 'display_data';\n",
              "          await google.colab.output.renderOutput(dataTable, element);\n",
              "          const docLink = document.createElement('div');\n",
              "          docLink.innerHTML = docLinkHtml;\n",
              "          element.appendChild(docLink);\n",
              "        }\n",
              "      </script>\n",
              "    </div>\n",
              "  </div>\n",
              "  "
            ],
            "text/plain": [
              "   Unnamed: 0  ... Journal_encoded\n",
              "0           0  ...               2\n",
              "1           1  ...               2\n",
              "2           2  ...               2\n",
              "3           3  ...               2\n",
              "4           4  ...               2\n",
              "\n",
              "[5 rows x 12 columns]"
            ]
          },
          "metadata": {},
          "execution_count": 10
        }
      ]
    },
    {
      "cell_type": "code",
      "source": [
        "df['journal name'].unique()"
      ],
      "metadata": {
        "colab": {
          "base_uri": "https://localhost:8080/"
        },
        "id": "XWPFrd2erV_J",
        "outputId": "5ece69b3-9f17-4d20-d8fb-9732ff972c38"
      },
      "execution_count": null,
      "outputs": [
        {
          "output_type": "execute_result",
          "data": {
            "text/plain": [
              "array(['IEEE Conference Publication', 'BIAI Journals & Magazine',\n",
              "       'IEEE Journals & Magazine', 'IET Journals & Magazine',\n",
              "       'CPSS Journals & Magazine'], dtype=object)"
            ]
          },
          "metadata": {},
          "execution_count": 17
        }
      ]
    },
    {
      "cell_type": "markdown",
      "source": [
        "Data Visualization "
      ],
      "metadata": {
        "id": "HsoX47kpr_mV"
      }
    },
    {
      "cell_type": "code",
      "source": [
        "plt.hist(df['journal name'],color='blue',orientation='vertical')\n",
        "plt.title('journal')\n",
        "plt.xlabel('journal')\n",
        "plt.ylabel('frequency')\n",
        "journal=('IEEE Conference Publication', 'BIAI Journals & Magazine',\n",
        "       'IEEE Journals & Magazine', 'IET Journals & Magazine',\n",
        "       'CPSS Journals & Magazine')\n",
        "\n",
        "print(len(journal))\n",
        "index=np.arange(len(journal))\n",
        "plt.xticks(index,journal,rotation=80)\n",
        "plt.show()"
      ],
      "metadata": {
        "id": "Ac0-uO0qhrTS",
        "colab": {
          "base_uri": "https://localhost:8080/",
          "height": 442
        },
        "outputId": "a5839fbd-c788-4e92-cc5d-69b49f6ecee0"
      },
      "execution_count": null,
      "outputs": [
        {
          "output_type": "stream",
          "name": "stdout",
          "text": [
            "5\n"
          ]
        },
        {
          "output_type": "display_data",
          "data": {
            "image/png": "[encoded data removed]",
            "text/plain": [
              "<Figure size 432x288 with 1 Axes>"
            ]
          },
          "metadata": {
            "needs_background": "light"
          }
        }
      ]
    },
    {
      "cell_type": "code",
      "source": [
        "df['journal name'].value_counts()[:20].plot(kind='pie')"
      ],
      "metadata": {
        "id": "ZLCM5rJEhrU7",
        "colab": {
          "base_uri": "https://localhost:8080/",
          "height": 266
        },
        "outputId": "a03b3582-373c-43a8-f2f2-fe6b49ccc820"
      },
      "execution_count": null,
      "outputs": [
        {
          "output_type": "execute_result",
          "data": {
            "text/plain": [
              "<matplotlib.axes._subplots.AxesSubplot at 0x7f9b9a825990>"
            ]
          },
          "metadata": {},
          "execution_count": 12
        },
        {
          "output_type": "display_data",
          "data": {
            "image/png": "[encoded data removed]",
            "text/plain": [
              "<Figure size 432x288 with 1 Axes>"
            ]
          },
          "metadata": {}
        }
      ]
    },
    {
      "cell_type": "code",
      "source": [
        "month=df['month of publication'].value_counts()"
      ],
      "metadata": {
        "id": "A5TAKoi5hrae"
      },
      "execution_count": null,
      "outputs": []
    },
    {
      "cell_type": "code",
      "source": [
        "plt.bar(month.index,[month[0],month[1]])"
      ],
      "metadata": {
        "colab": {
          "base_uri": "https://localhost:8080/",
          "height": 282
        },
        "id": "59Hbd_6V7Y3a",
        "outputId": "b58365cb-83de-4c07-9175-bd9dca761f5c"
      },
      "execution_count": null,
      "outputs": [
        {
          "output_type": "execute_result",
          "data": {
            "text/plain": [
              "<BarContainer object of 2 artists>"
            ]
          },
          "metadata": {},
          "execution_count": 14
        },
        {
          "output_type": "display_data",
          "data": {
            "image/png": "[encoded data removed]",
            "text/plain": [
              "<Figure size 432x288 with 1 Axes>"
            ]
          },
          "metadata": {
            "needs_background": "light"
          }
        }
      ]
    },
    {
      "cell_type": "code",
      "source": [
        "df.sort_values(by='citations',ascending=False)[['title of paper','citations']][:5]\n"
      ],
      "metadata": {
        "colab": {
          "base_uri": "https://localhost:8080/",
          "height": 206
        },
        "id": "0H2xTsSL79cE",
        "outputId": "11dade17-2de0-41b4-f8cf-41b99d745034"
      },
      "execution_count": null,
      "outputs": [
        {
          "output_type": "execute_result",
          "data": {
            "text/html": [
              "\n",
              "  <div id=\"df-f2a7ec83-9169-48ae-9a6b-e8d889459244\">\n",
              "    <div class=\"colab-df-container\">\n",
              "      <div>\n",
              "<style scoped>\n",
              "    .dataframe tbody tr th:only-of-type {\n",
              "        vertical-align: middle;\n",
              "    }\n",
              "\n",
              "    .dataframe tbody tr th {\n",
              "        vertical-align: top;\n",
              "    }\n",
              "\n",
              "    .dataframe thead th {\n",
              "        text-align: right;\n",
              "    }\n",
              "</style>\n",
              "<table border=\"1\" class=\"dataframe\">\n",
              "  <thead>\n",
              "    <tr style=\"text-align: right;\">\n",
              "      <th></th>\n",
              "      <th>title of paper</th>\n",
              "      <th>citations</th>\n",
              "    </tr>\n",
              "  </thead>\n",
              "  <tbody>\n",
              "    <tr>\n",
              "      <th>410</th>\n",
              "      <td>A Fault-Tolerant Wideband Amplifier Based on D...</td>\n",
              "      <td>471.0</td>\n",
              "    </tr>\n",
              "    <tr>\n",
              "      <th>123</th>\n",
              "      <td>A Simulation Framework for Virtualized Resourc...</td>\n",
              "      <td>459.0</td>\n",
              "    </tr>\n",
              "    <tr>\n",
              "      <th>128</th>\n",
              "      <td>Contract Management: Being Agile</td>\n",
              "      <td>440.0</td>\n",
              "    </tr>\n",
              "    <tr>\n",
              "      <th>120</th>\n",
              "      <td>A Stabilizing Centralized Controller for On-Ch...</td>\n",
              "      <td>406.0</td>\n",
              "    </tr>\n",
              "    <tr>\n",
              "      <th>84</th>\n",
              "      <td>Deep Segmentation Domain Adaptation Network Wi...</td>\n",
              "      <td>370.0</td>\n",
              "    </tr>\n",
              "  </tbody>\n",
              "</table>\n",
              "</div>\n",
              "      <button class=\"colab-df-convert\" onclick=\"convertToInteractive('df-f2a7ec83-9169-48ae-9a6b-e8d889459244')\"\n",
              "              title=\"Convert this dataframe to an interactive table.\"\n",
              "              style=\"display:none;\">\n",
              "        \n",
              "  <svg xmlns=\"http://www.w3.org/2000/svg\" height=\"24px\"viewBox=\"0 0 24 24\"\n",
              "       width=\"24px\">\n",
              "    <path d=\"M0 0h24v24H0V0z\" fill=\"none\"/>\n",
              "    <path d=\"M18.56 5.44l.94 2.06.94-2.06 2.06-.94-2.06-.94-.94-2.06-.94 2.06-2.06.94zm-11 1L8.5 8.5l.94-2.06 2.06-.94-2.06-.94L8.5 2.5l-.94 2.06-2.06.94zm10 10l.94 2.06.94-2.06 2.06-.94-2.06-.94-.94-2.06-.94 2.06-2.06.94z\"/><path d=\"M17.41 7.96l-1.37-1.37c-.4-.4-.92-.59-1.43-.59-.52 0-1.04.2-1.43.59L10.3 9.45l-7.72 7.72c-.78.78-.78 2.05 0 2.83L4 21.41c.39.39.9.59 1.41.59.51 0 1.02-.2 1.41-.59l7.78-7.78 2.81-2.81c.8-.78.8-2.07 0-2.86zM5.41 20L4 18.59l7.72-7.72 1.47 1.35L5.41 20z\"/>\n",
              "  </svg>\n",
              "      </button>\n",
              "      \n",
              "  <style>\n",
              "    .colab-df-container {\n",
              "      display:flex;\n",
              "      flex-wrap:wrap;\n",
              "      gap: 12px;\n",
              "    }\n",
              "\n",
              "    .colab-df-convert {\n",
              "      background-color: #E8F0FE;\n",
              "      border: none;\n",
              "      border-radius: 50%;\n",
              "      cursor: pointer;\n",
              "      display: none;\n",
              "      fill: #1967D2;\n",
              "      height: 32px;\n",
              "      padding: 0 0 0 0;\n",
              "      width: 32px;\n",
              "    }\n",
              "\n",
              "    .colab-df-convert:hover {\n",
              "      background-color: #E2EBFA;\n",
              "      box-shadow: 0px 1px 2px rgba(60, 64, 67, 0.3), 0px 1px 3px 1px rgba(60, 64, 67, 0.15);\n",
              "      fill: #174EA6;\n",
              "    }\n",
              "\n",
              "    [theme=dark] .colab-df-convert {\n",
              "      background-color: #3B4455;\n",
              "      fill: #D2E3FC;\n",
              "    }\n",
              "\n",
              "    [theme=dark] .colab-df-convert:hover {\n",
              "      background-color: #434B5C;\n",
              "      box-shadow: 0px 1px 3px 1px rgba(0, 0, 0, 0.15);\n",
              "      filter: drop-shadow(0px 1px 2px rgba(0, 0, 0, 0.3));\n",
              "      fill: #FFFFFF;\n",
              "    }\n",
              "  </style>\n",
              "\n",
              "      <script>\n",
              "        const buttonEl =\n",
              "          document.querySelector('#df-f2a7ec83-9169-48ae-9a6b-e8d889459244 button.colab-df-convert');\n",
              "        buttonEl.style.display =\n",
              "          google.colab.kernel.accessAllowed ? 'block' : 'none';\n",
              "\n",
              "        async function convertToInteractive(key) {\n",
              "          const element = document.querySelector('#df-f2a7ec83-9169-48ae-9a6b-e8d889459244');\n",
              "          const dataTable =\n",
              "            await google.colab.kernel.invokeFunction('convertToInteractive',\n",
              "                                                     [key], {});\n",
              "          if (!dataTable) return;\n",
              "\n",
              "          const docLinkHtml = 'Like what you see? Visit the ' +\n",
              "            '<a target=\"_blank\" href=https://colab.research.google.com/notebooks/data_table.ipynb>data table notebook</a>'\n",
              "            + ' to learn more about interactive tables.';\n",
              "          element.innerHTML = '';\n",
              "          dataTable['output_type'] = 'display_data';\n",
              "          await google.colab.output.renderOutput(dataTable, element);\n",
              "          const docLink = document.createElement('div');\n",
              "          docLink.innerHTML = docLinkHtml;\n",
              "          element.appendChild(docLink);\n",
              "        }\n",
              "      </script>\n",
              "    </div>\n",
              "  </div>\n",
              "  "
            ],
            "text/plain": [
              "                                        title of paper  citations\n",
              "410  A Fault-Tolerant Wideband Amplifier Based on D...      471.0\n",
              "123  A Simulation Framework for Virtualized Resourc...      459.0\n",
              "128                   Contract Management: Being Agile      440.0\n",
              "120  A Stabilizing Centralized Controller for On-Ch...      406.0\n",
              "84   Deep Segmentation Domain Adaptation Network Wi...      370.0"
            ]
          },
          "metadata": {},
          "execution_count": 15
        }
      ]
    },
    {
      "cell_type": "code",
      "source": [
        "plt.bar(df['journal name'],df['citations'])\n",
        "plt.xticks(rotation=75)"
      ],
      "metadata": {
        "id": "4-zI_p-sIACW",
        "colab": {
          "base_uri": "https://localhost:8080/",
          "height": 410
        },
        "outputId": "e6014206-d30f-4978-adad-a7d61fcf014a"
      },
      "execution_count": null,
      "outputs": [
        {
          "output_type": "execute_result",
          "data": {
            "text/plain": [
              "([0, 1, 2, 3, 4], <a list of 5 Text major ticklabel objects>)"
            ]
          },
          "metadata": {},
          "execution_count": 16
        },
        {
          "output_type": "display_data",
          "data": {
            "image/png": "[encoded data removed]",
            "text/plain": [
              "<Figure size 432x288 with 1 Axes>"
            ]
          },
          "metadata": {
            "needs_background": "light"
          }
        }
      ]
    }
  ]
}